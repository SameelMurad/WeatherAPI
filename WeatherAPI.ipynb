{
 "cells": [
  {
   "cell_type": "code",
   "execution_count": 8,
   "id": "4f4af49a",
   "metadata": {},
   "outputs": [],
   "source": [
    "import pandas as pd\n",
    "import requests\n",
    "from datetime import datetime"
   ]
  },
  {
   "cell_type": "code",
   "execution_count": 9,
   "id": "d61d1e77",
   "metadata": {},
   "outputs": [],
   "source": [
    "city_name = \"Birmingham\"\n",
    "country_code = \"UK\"\n",
    "API_key = \"f47d7a0871d76fc1634f0afd08880cd8\""
   ]
  },
  {
   "cell_type": "code",
   "execution_count": 10,
   "id": "61e04dd8",
   "metadata": {},
   "outputs": [],
   "source": [
    "def get_weather(API_key, city_name, country_code):\n",
    "    url = \"https://api.openweathermap.org/data/2.5/weather?q={city_name},{country_code}&appid={API_key}\"\n",
    "    \n",
    "    response = requests.get(url).json()\n",
    "    print (response)"
   ]
  },
  {
   "cell_type": "code",
   "execution_count": 11,
   "id": "873d0de3",
   "metadata": {},
   "outputs": [
    {
     "name": "stdout",
     "output_type": "stream",
     "text": [
      "{'cod': 401, 'message': 'Invalid API key. Please see https://openweathermap.org/faq#error401 for more info.'}\n"
     ]
    }
   ],
   "source": [
    "get_weather(API_key, city_name, country_code)"
   ]
  }
 ],
 "metadata": {
  "kernelspec": {
   "display_name": "Python 3",
   "language": "python",
   "name": "python3"
  },
  "language_info": {
   "codemirror_mode": {
    "name": "ipython",
    "version": 3
   },
   "file_extension": ".py",
   "mimetype": "text/x-python",
   "name": "python",
   "nbconvert_exporter": "python",
   "pygments_lexer": "ipython3",
   "version": "3.11.2"
  }
 },
 "nbformat": 4,
 "nbformat_minor": 5
}
